{
 "cells": [
  {
   "cell_type": "code",
   "execution_count": 1,
   "metadata": {},
   "outputs": [],
   "source": [
    "import numpy as np\n",
    "import matplotlib.pyplot as plt"
   ]
  },
  {
   "cell_type": "code",
   "execution_count": 2,
   "metadata": {},
   "outputs": [],
   "source": [
    "def print_progress(i,max):\n",
    "    progress = (i / max) * 100\n",
    "    completed = int((i / max) * 50)\n",
    "    bar = '#' * completed + '-' * (50 - completed)\n",
    "    print(f'[{progress:3.0f}%] [{bar}]', end='\\r')"
   ]
  },
  {
   "cell_type": "code",
   "execution_count": 3,
   "metadata": {},
   "outputs": [],
   "source": [
    "from PIL import Image\n",
    "import os\n",
    "\n",
    "def get_gif(path,name):\n",
    "    # Ruta de la carpeta que contiene las imágenes\n",
    "    folder_path = path\n",
    "\n",
    "    # Lista para almacenar las imágenes\n",
    "    images = []\n",
    "\n",
    "    # Obtener todas las imágenes en la carpeta\n",
    "    for filename in os.listdir(folder_path):\n",
    "        if filename.endswith('.jpg') or filename.endswith('.png'):\n",
    "            image_path = os.path.join(folder_path, filename)\n",
    "            image = Image.open(image_path)\n",
    "            images.append((filename, image))\n",
    "\n",
    "    # Ordenar las imágenes por el nombre de archivo\n",
    "    images.sort(key=lambda x: int(x[0].replace('.jpg','')))\n",
    "\n",
    "    # Guardar las imágenes como GIF\n",
    "    output_path = name+'.gif' \n",
    "    frames = [image for _, image in images]\n",
    "    frames[0].save(output_path, save_all=True, append_images=frames[1:], optimize=False, duration=200, loop=0)\n"
   ]
  },
  {
   "cell_type": "code",
   "execution_count": 7,
   "metadata": {},
   "outputs": [
    {
     "name": "stdout",
     "output_type": "stream",
     "text": [
      "[100%] [#################################################-]\r"
     ]
    }
   ],
   "source": [
    "nx = 100\n",
    "ny = nx\n",
    "nt = 1010\n",
    "dx = 1 / (nx - 1)\n",
    "dy = dx\n",
    "dt = 0.0001\n",
    "alpha = 0.13  \n",
    "\n",
    "x = np.linspace(0, 1, nx)\n",
    "y = np.linspace(0, 1, ny)\n",
    "\n",
    "X, Y = np.meshgrid(x, y) # Creamos una malla para X e Y\n",
    "\n",
    "T = np.zeros((nx, ny, nt)) # Inicializamos el array de la temperatura [x,y,t]\n",
    "rho = np.ones((nx, ny))  # Densidad constante en toda la placa\n",
    "\n",
    "\n",
    "# Definir un cilindro con temperatura constante de 0 como distribución inicial de temperatura\n",
    "cylinder_center_x = 0.5\n",
    "cylinder_center_y = 0.5\n",
    "cylinder_radius = 0.3\n",
    "\n",
    "cylinder_mask = (X - cylinder_center_x) ** 2 + (Y - cylinder_center_y) ** 2 <= cylinder_radius ** 2\n",
    "\n",
    "T[:, :, 0] = (1 - cylinder_mask) * 100  # Asignar 100 a la placa y 0 al cilindro\n",
    "\n",
    "# Condiciones de frontera igual\n",
    "T[0, :, :] = 100\n",
    "T[nx - 1, :, :] = 100\n",
    "T[:, 0, :] = 100\n",
    "T[:, ny - 1, :] = 100\n",
    "\n",
    "for j in range(nt-1):\n",
    "    for i in range(1, nx - 1):\n",
    "        for k in range(1, ny - 1):\n",
    "            # Discretizacion de la ecuacion de difusion\n",
    "            d2T_dx2 = (T[i + 1, k, j] - 2 * T[i, k, j] + T[i - 1, k, j]) / (dx ** 2 * rho[i, k])\n",
    "            d2T_dy2 = (T[i, k + 1, j] - 2 * T[i, k, j] + T[i, k - 1, j]) / (dy ** 2 * rho[i, k])\n",
    "\n",
    "            T[i, k, j + 1] = T[i, k, j] + alpha * dt * (d2T_dx2 + d2T_dy2)\n",
    "            \n",
    "    #Mostrar porcentaje de avance\n",
    "    print_progress(j,nt)"
   ]
  },
  {
   "cell_type": "code",
   "execution_count": 8,
   "metadata": {},
   "outputs": [
    {
     "name": "stdout",
     "output_type": "stream",
     "text": [
      "Creando imagenes 2d\n",
      "[ 99%] [#################################################-]\r"
     ]
    }
   ],
   "source": [
    "# Figura 2d\n",
    "\n",
    "fig = plt.figure(figsize=(9,8))\n",
    "ax = plt.subplot(1,1,1)\n",
    "\n",
    "ax.set_xlabel('x')\n",
    "ax.set_ylabel('y')\n",
    "\n",
    "cont = ax.contourf(X,Y,T[:,:,0],levels = np.linspace(0,100,11))\n",
    "cbar = plt.colorbar(cont)\n",
    "plt.close(fig)\n",
    "\n",
    "print('Creando imagenes 2d')\n",
    "\n",
    "path = 'cilindro_2d/'\n",
    "for i in range(0,nt,10):\n",
    "    cont = ax.contourf(X,Y,T[:,:,i],levels = np.linspace(0,100,11))\n",
    "    fig.suptitle(f'n = {i}, t = {i*dt:.4f}')\n",
    "    fig.savefig(f'{path}{i}.jpg')\n",
    "    plt.close(fig)\n",
    "\n",
    "    print_progress(i,nt)\n",
    "\n",
    "get_gif(path,'cilindro_2d')"
   ]
  },
  {
   "cell_type": "code",
   "execution_count": 9,
   "metadata": {},
   "outputs": [
    {
     "name": "stdout",
     "output_type": "stream",
     "text": [
      "Creando imagenes del bloque de hielo en 3d\n",
      "[ 99%] [#################################################-]\r"
     ]
    }
   ],
   "source": [
    "# Crear figura y eje 3D\n",
    "fig = plt.figure()\n",
    "ax = fig.add_subplot(111, projection='3d')\n",
    "\n",
    "print('Creando imagenes del bloque de hielo en 3d')\n",
    "\n",
    "# Graficar superficie 3D\n",
    "path = 'cilindro_3d/'\n",
    "for i in range(0,nt,10):\n",
    "    Z = 100-T[:,:,i]\n",
    "\n",
    "    ax.plot_surface(X, Y, Z)\n",
    "    fig.suptitle(f'n = {i}, t = {i*dt:.4f}')\n",
    "    fig.savefig(f'{path}{i}.jpg')\n",
    "    ax.cla()\n",
    "    plt.close(fig)\n",
    "\n",
    "    print_progress(i,nt)\n",
    "\n",
    "get_gif(path,'cilindro_3d')"
   ]
  },
  {
   "cell_type": "code",
   "execution_count": null,
   "metadata": {},
   "outputs": [],
   "source": []
  }
 ],
 "metadata": {
  "kernelspec": {
   "display_name": "Python 3",
   "language": "python",
   "name": "python3"
  },
  "language_info": {
   "codemirror_mode": {
    "name": "ipython",
    "version": 3
   },
   "file_extension": ".py",
   "mimetype": "text/x-python",
   "name": "python",
   "nbconvert_exporter": "python",
   "pygments_lexer": "ipython3",
   "version": "3.10.6"
  },
  "orig_nbformat": 4
 },
 "nbformat": 4,
 "nbformat_minor": 2
}
