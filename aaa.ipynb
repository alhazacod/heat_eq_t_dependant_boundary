{
 "cells": [
  {
   "cell_type": "code",
   "execution_count": 1,
   "metadata": {},
   "outputs": [],
   "source": [
    "import numpy as np\n",
    "import matplotlib.pyplot as plt"
   ]
  },
  {
   "cell_type": "code",
   "execution_count": 21,
   "metadata": {},
   "outputs": [],
   "source": [
    "nx = 100\n",
    "ny = nx\n",
    "nt = 30\n",
    "dx = 1 / (nx - 1)\n",
    "dy = dx\n",
    "dt = 0.0001\n",
    "alpha = 0.13  # Coeficiente de difusión más alto\n",
    "\n",
    "x = np.linspace(0, 1, nx)\n",
    "y = np.linspace(0, 1, ny)\n",
    "\n",
    "T = np.zeros((nx, ny, nt))\n",
    "rho = np.ones((nx, ny))  # Densidad constante en toda la placa\n",
    "\n",
    "X, Y = np.meshgrid(x, y)\n",
    "\n",
    "# Definir un cilindro con temperatura constante de 0 como distribución inicial de temperatura\n",
    "cylinder_center_x = 0.5\n",
    "cylinder_center_y = 0.5\n",
    "cylinder_radius = 0.3\n",
    "\n",
    "cylinder_mask = (X - cylinder_center_x) ** 2 + (Y - cylinder_center_y) ** 2 <= cylinder_radius ** 2\n",
    "\n",
    "T[:, :, 0] = (1 - cylinder_mask) * 100  # Asignar 100 a la placa y 0 al cilindro\n",
    "\n",
    "# Condiciones de frontera igual a 100\n",
    "T[0, :, :] = 100\n",
    "T[nx - 1, :, :] = 100\n",
    "T[:, 0, :] = 100\n",
    "T[:, ny - 1, :] = 100\n",
    "\n",
    "for j in range(nt-1):\n",
    "    for i in range(1, nx - 1):\n",
    "        for k in range(1, ny - 1):\n",
    "            d2T_dx2 = (T[i + 1, k, j] - 2 * T[i, k, j] + T[i - 1, k, j]) / (dx ** 2 * rho[i, k])\n",
    "            d2T_dy2 = (T[i, k + 1, j] - 2 * T[i, k, j] + T[i, k - 1, j]) / (dy ** 2 * rho[i, k])\n",
    "\n",
    "            T[i, k, j + 1] = T[i, k, j] + alpha * dt * (d2T_dx2 + d2T_dy2)\n",
    "\n",
    "    # Condiciones de frontera igual a 100\n",
    "    T[0, :, j + 1] = 100#50*np.exp(500*(j+1)*dt)\n",
    "    T[nx - 1, :, j + 1] = 100\n",
    "    T[:, 0, j + 1] = 100\n",
    "    T[:, ny - 1, j + 1] = 100\n",
    "\n"
   ]
  },
  {
   "cell_type": "code",
   "execution_count": 48,
   "metadata": {},
   "outputs": [],
   "source": [
    "plt.ioff()\n",
    "\n",
    "fig = plt.figure(figsize=(9,8))\n",
    "ax = plt.subplot(1,1,1)\n",
    "\n",
    "ax.set_xlabel('x')\n",
    "ax.set_ylabel('y')\n",
    "\n",
    "cont = ax.contourf(T[:,:,0],levels = np.linspace(0,100,11))\n",
    "cbar = plt.colorbar(cont)\n",
    "plt.close(fig)\n",
    "\n",
    "for i in range(nt-1):\n",
    "    cont = ax.contourf(T[:,:,i],levels = np.linspace(0,100,11))\n",
    "    fig.savefig(f'figures/{i}.jpg')\n",
    "    plt.close(fig)"
   ]
  },
  {
   "cell_type": "code",
   "execution_count": null,
   "metadata": {},
   "outputs": [],
   "source": []
  }
 ],
 "metadata": {
  "kernelspec": {
   "display_name": "Python 3",
   "language": "python",
   "name": "python3"
  },
  "language_info": {
   "codemirror_mode": {
    "name": "ipython",
    "version": 3
   },
   "file_extension": ".py",
   "mimetype": "text/x-python",
   "name": "python",
   "nbconvert_exporter": "python",
   "pygments_lexer": "ipython3",
   "version": "3.10.6"
  },
  "orig_nbformat": 4
 },
 "nbformat": 4,
 "nbformat_minor": 2
}
